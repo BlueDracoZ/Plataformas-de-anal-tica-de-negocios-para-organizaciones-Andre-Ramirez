{
 "cells": [
  {
   "cell_type": "code",
   "execution_count": 1,
   "metadata": {},
   "outputs": [],
   "source": [
    "#Importamos librerías requeridas\n",
    "import pandas as pd\n",
    "import numpy as np\n",
    "import matplotlib.pyplot as plt\n",
    "import seaborn as sns"
   ]
  },
  {
   "cell_type": "code",
   "execution_count": null,
   "metadata": {},
   "outputs": [],
   "source": [
    "#Carga desde un archivo .xlsx sin indice\n",
    "Inmuebles= pd.read_excel('Inmuebles.xlsx')\n",
    "Inmuebles"
   ]
  },
  {
   "cell_type": "code",
   "execution_count": null,
   "metadata": {},
   "outputs": [],
   "source": [
    "#Carga desde un archivo .csv sin indice\n",
    "Ventas_totales_supermercados = pd.read_csv(\"Ventas_totales_supermercados.csv\")\n",
    "Ventas_totales_supermercados"
   ]
  },
  {
   "cell_type": "code",
   "execution_count": null,
   "metadata": {},
   "outputs": [],
   "source": [
    "#Carga desde un archivo .csv con indice\n",
    "Ventas_totales_supermercados = pd.read_csv(\"Ventas_totales_supermercados.csv\", index_col=2)\n",
    "Ventas_totales_supermercados"
   ]
  },
  {
   "cell_type": "code",
   "execution_count": null,
   "metadata": {},
   "outputs": [],
   "source": [
    "#Carga desde un archivo .csv sin indice\n",
    "Exportaciones = pd.read_csv(\"Exportaciones.csv\")\n",
    "Exportaciones"
   ]
  },
  {
   "cell_type": "code",
   "execution_count": 11,
   "metadata": {},
   "outputs": [
    {
     "data": {
      "text/plain": [
       "1160"
      ]
     },
     "execution_count": 11,
     "metadata": {},
     "output_type": "execute_result"
    }
   ],
   "source": [
    "#Corroboramos valores nulos\n",
    "valores_nulos=Inmuebles.isnull().sum().sum()\n",
    "valores_nulos"
   ]
  },
  {
   "cell_type": "code",
   "execution_count": 12,
   "metadata": {},
   "outputs": [],
   "source": [
    "#Sustituir valores nulos por valores no nulos hacia adelante  \"forward fill\" (\"ffill\")\n",
    "Inmuebles =Inmuebles.fillna(method=\"ffill\") "
   ]
  },
  {
   "cell_type": "code",
   "execution_count": 13,
   "metadata": {},
   "outputs": [
    {
     "data": {
      "text/plain": [
       "0"
      ]
     },
     "execution_count": 13,
     "metadata": {},
     "output_type": "execute_result"
    }
   ],
   "source": [
    "#Corroboramos valores nulos\n",
    "valores_nulos=Inmuebles.isnull().sum().sum()\n",
    "valores_nulos"
   ]
  },
  {
   "cell_type": "code",
   "execution_count": null,
   "metadata": {},
   "outputs": [],
   "source": [
    "#Conversión de tipo de dato de columna de tipo Object a Float\n",
    "df.CVE_CLPV = df.CVE_CLPV.astype(float)"
   ]
  },
  {
   "cell_type": "code",
   "execution_count": null,
   "metadata": {},
   "outputs": [],
   "source": [
    "#Reemplazo de datos tipo string a datos tipo numérico\n",
    "df.CVE_CLPV = df.CVE_CLPV.replace({'O':'0'}, regex=False)"
   ]
  },
  {
   "cell_type": "code",
   "execution_count": null,
   "metadata": {},
   "outputs": [],
   "source": [
    "#Verificamos información del DataFrame\n",
    "df.info()"
   ]
  },
  {
   "cell_type": "code",
   "execution_count": null,
   "metadata": {},
   "outputs": [],
   "source": [
    "#Imprimo los primeros 5 registro del dataframe\n",
    "df.head()"
   ]
  },
  {
   "cell_type": "markdown",
   "metadata": {},
   "source": [
    "FILTROS BASICOS PARA VARIABLES CUALITATIVAS\n",
    "\n"
   ]
  },
  {
   "cell_type": "code",
   "execution_count": null,
   "metadata": {},
   "outputs": [],
   "source": [
    "#Filtro por objeto\n",
    "filtro1=df[df[\"NOMBRE\"] == \"INDUSTRIAS LANCERMEX\"]\n",
    "filtro1"
   ]
  },
  {
   "cell_type": "code",
   "execution_count": null,
   "metadata": {},
   "outputs": [],
   "source": [
    "#Filtro por filas\n",
    "#filtro2= df.iloc[3:10,: ]           #Filas consecutivas\n",
    "filtro2=df.iloc[ [8, 24, 100] , : ]  #Filas no consecutivas\n",
    "filtro2"
   ]
  },
  {
   "cell_type": "code",
   "execution_count": null,
   "metadata": {},
   "outputs": [],
   "source": [
    "#Filtro por columnas\n",
    "filtro3=df.iloc[ : , 1:3]       #Columnas consecutivas\n",
    "#filtro3=df.iloc[ : , [1,4,6]]  #Columnas no consecutivas\n",
    "filtro3"
   ]
  },
  {
   "cell_type": "code",
   "execution_count": null,
   "metadata": {},
   "outputs": [],
   "source": [
    "df1= pd.read_excel('Antigüedad de saldos 17.03.2023.xlsx', index_col=1)\n",
    "df1"
   ]
  },
  {
   "cell_type": "code",
   "execution_count": null,
   "metadata": {},
   "outputs": [],
   "source": [
    "#Paso 2: Aplicamos Filtro de filas vs columnas\n",
    "filtro4=df1.loc[[\"HELVEX\",\"DONGA HWASUNG MEXICO\"], [\"MONTO ADEUDADO\"]]\n",
    "filtro4"
   ]
  },
  {
   "cell_type": "code",
   "execution_count": null,
   "metadata": {},
   "outputs": [],
   "source": [
    "#Filtro por cabecera\n",
    "filtro5=df.head()\n",
    "filtro5"
   ]
  },
  {
   "cell_type": "code",
   "execution_count": null,
   "metadata": {},
   "outputs": [],
   "source": [
    "#Filtro por cabecera\n",
    "filtro6=df.tail(10)\n",
    "filtro6"
   ]
  },
  {
   "cell_type": "markdown",
   "metadata": {},
   "source": [
    "FILTROS BASICOS PARA VARIABLES CUANTITATIVAS\n",
    "\n"
   ]
  },
  {
   "cell_type": "code",
   "execution_count": null,
   "metadata": {},
   "outputs": [],
   "source": [
    "#Filtro por comparacion\n",
    "filtro6=df[df[\"MONTO ADEUDADO\"] > 70000]\n",
    "filtro6"
   ]
  },
  {
   "cell_type": "markdown",
   "metadata": {},
   "source": [
    "FILTROS BASICOS CON CONETORES LOGICOS\n",
    "\n"
   ]
  },
  {
   "cell_type": "code",
   "execution_count": null,
   "metadata": {},
   "outputs": [],
   "source": [
    "#Filtro Y\n",
    "filtro8=df[(df[\"MONTO ADEUDADO\"] < 6000) & (df[\"FECHA_FACTURA\"] == \"2023-03-14\")]\n",
    "filtro8"
   ]
  },
  {
   "cell_type": "code",
   "execution_count": null,
   "metadata": {},
   "outputs": [],
   "source": [
    "#Filtro o\n",
    "filtro9=df[(df[\"MONTO ADEUDADO\"] < 6000) | (df[\"FECHA_FACTURA\"] == \"2023-03-14\")]\n",
    "filtro9"
   ]
  },
  {
   "cell_type": "code",
   "execution_count": null,
   "metadata": {},
   "outputs": [],
   "source": [
    "#Filtro not\n",
    "filtro10=df[~(df[\"MONTO ADEUDADO\"] >= 6000) & ~(df[\"FECHA_FACTURA\"] == \"2023-03-14\")]\n",
    "filtro10"
   ]
  },
  {
   "cell_type": "code",
   "execution_count": 25,
   "metadata": {},
   "outputs": [],
   "source": [
    "#Convertir archivo filtrado a CSV\n",
    "filtro10.to_csv(\"Entregable1.csv\")"
   ]
  }
 ],
 "metadata": {
  "kernelspec": {
   "display_name": "Python 3",
   "language": "python",
   "name": "python3"
  },
  "language_info": {
   "codemirror_mode": {
    "name": "ipython",
    "version": 3
   },
   "file_extension": ".py",
   "mimetype": "text/x-python",
   "name": "python",
   "nbconvert_exporter": "python",
   "pygments_lexer": "ipython3",
   "version": "3.11.1"
  },
  "orig_nbformat": 4
 },
 "nbformat": 4,
 "nbformat_minor": 2
}
